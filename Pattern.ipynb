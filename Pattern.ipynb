{
 "metadata": {
  "name": "Pattern"
 },
 "nbformat": 3,
 "worksheets": [
  {
   "cells": [
    {
     "cell_type": "code",
     "collapsed": false,
     "input": [
      "import numpy as np",
      "def pattern(step,a,n):",
      "    def gradient(x,y,z):",
      "        ",
      "    for list in a:",
      "        for list in ",
      "        print a, a[index]"
     ],
     "language": "python",
     "outputs": [
      {
       "output_type": "stream",
       "stream": "stdout",
       "text": [
        ""
       ]
      }
     ],
     "prompt_number": 78
    },
    {
     "cell_type": "code",
     "collapsed": false,
     "input": [
      "b = ((1,(6,3)),4,(5,3,9,34));",
      "pattern(2,b,0)"
     ],
     "language": "python",
     "outputs": [
      {
       "output_type": "stream",
       "stream": "stdout",
       "text": [
        "((1, (6, 3)), 4, (5, 3, 9, 34)) (1, (6, 3))",
        "((1, (6, 3)), 4, (5, 3, 9, 34)) 4",
        "((1, (6, 3)), 4, (5, 3, 9, 34)) (5, 3, 9, 34)"
       ]
      }
     ],
     "prompt_number": 80
    },
    {
     "cell_type": "code",
     "collapsed": true,
     "input": [
      "# a[0] is the first event",
      "# a[0][0] is the first data point of the first event",
      "# a[0][0][0] is the volume of the first event",
      "# a[0][0][1] is the row of the first event",
      "# a[0][0][2] is the column of the first event",
      "# a[0][0][3] is the bucket of the first event",
      "# a[0][0][4] is the ADC of the first event  (ADC is unit of digitized charge or energy deposition)"
     ],
     "language": "python",
     "outputs": []
    }
   ]
  }
 ]
}