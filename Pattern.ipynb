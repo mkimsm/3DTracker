{
 "metadata": {
  "name": "Pattern"
 },
 "nbformat": 3,
 "worksheets": [
  {
   "cells": [
    {
     "cell_type": "code",
     "collapsed": false,
     "input": [
      "import numpy as np",
      "",
      "def pattern(step,a,n):",
      "    for index in range(len(a)):",
      "        print step",
      "        print a[0]",
      "        print n;"
     ],
     "language": "python",
     "outputs": [],
     "prompt_number": 59
    },
    {
     "cell_type": "code",
     "collapsed": false,
     "input": [
      "b = ((1,6),4,5);",
      "pattern(2,b,1)"
     ],
     "language": "python",
     "outputs": [
      {
       "output_type": "stream",
       "stream": "stdout",
       "text": [
        "2",
        "(1, 6)",
        "1",
        "2",
        "(1, 6)",
        "1",
        "2",
        "(1, 6)",
        "1"
       ]
      }
     ],
     "prompt_number": 60
    },
    {
     "cell_type": "code",
     "collapsed": true,
     "input": [],
     "language": "python",
     "outputs": []
    }
   ]
  }
 ]
}