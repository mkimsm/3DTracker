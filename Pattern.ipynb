{
 "metadata": {
  "name": "Pattern"
 },
 "nbformat": 3,
 "worksheets": [
  {
   "cells": [
    {
     "cell_type": "code",
     "collapsed": false,
     "input": [
      "import numpy as np",
      "import math",
      "def pattern(step,x,y,z,q):",
      "\treturn \"x,y,z,q\";",
      "pattern(1,2,3,4,5)"
     ],
     "language": "python",
     "outputs": [
      {
       "output_type": "pyout",
       "prompt_number": 6,
       "text": [
        "'x,y,z,q'"
       ]
      }
     ],
     "prompt_number": 6
    }
   ]
  }
 ]
}