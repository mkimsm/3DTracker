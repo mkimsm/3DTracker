{
 "metadata": {
  "name": "ADC"
 },
 "nbformat": 3,
 "worksheets": [
  {
   "cells": [
    {
     "cell_type": "code",
     "collapsed": false,
     "input": [
      "def noiseregulation(a,event,tol):",
      "    notnoise = [];",
      "    for i in range(len(a[event])):",
      "        if a[event][i][2] > tol:",
      "            notnoise.append(a[event][i])",
      "            print notnoise"
     ],
     "language": "python",
     "outputs": [],
     "prompt_number": 106
    },
    {
     "cell_type": "code",
     "collapsed": false,
     "input": [
      "for i in a:",
      "    for j in a:",
      "        density = a[i][j][3]",
      "        if density < 7:",
      "            del[i][j]"
     ],
     "language": "python",
     "outputs": [
      {
       "ename": "NameError",
       "evalue": "name 'a' is not defined",
       "output_type": "pyerr",
       "traceback": [
        "\u001b[1;31m---------------------------------------------------------------------------\u001b[0m\n\u001b[1;31mNameError\u001b[0m                                 Traceback (most recent call last)",
        "\u001b[1;32mC:\\Users\\Mike\\PHYS400\\3DTracker\\<ipython-input-1-ae4affd37060>\u001b[0m in \u001b[0;36m<module>\u001b[1;34m()\u001b[0m\n\u001b[1;32m----> 1\u001b[1;33m \u001b[1;32mfor\u001b[0m \u001b[0mi\u001b[0m \u001b[1;32min\u001b[0m \u001b[0ma\u001b[0m\u001b[1;33m:\u001b[0m\u001b[1;33m\u001b[0m\u001b[0m\n\u001b[0m\u001b[0;32m      2\u001b[0m     \u001b[1;32mfor\u001b[0m \u001b[0mj\u001b[0m \u001b[1;32min\u001b[0m \u001b[0ma\u001b[0m\u001b[1;33m:\u001b[0m\u001b[1;33m\u001b[0m\u001b[0m\n\u001b[0;32m      3\u001b[0m         \u001b[0mdensity\u001b[0m \u001b[1;33m=\u001b[0m \u001b[0ma\u001b[0m\u001b[1;33m[\u001b[0m\u001b[0mi\u001b[0m\u001b[1;33m]\u001b[0m\u001b[1;33m[\u001b[0m\u001b[0mj\u001b[0m\u001b[1;33m]\u001b[0m\u001b[1;33m[\u001b[0m\u001b[1;36m3\u001b[0m\u001b[1;33m]\u001b[0m\u001b[1;33m\u001b[0m\u001b[0m\n\u001b[0;32m      4\u001b[0m         \u001b[1;32mif\u001b[0m \u001b[0mdensity\u001b[0m \u001b[1;33m<\u001b[0m \u001b[1;36m7\u001b[0m\u001b[1;33m:\u001b[0m\u001b[1;33m\u001b[0m\u001b[0m\n\u001b[0;32m      5\u001b[0m             \u001b[1;32mdel\u001b[0m\u001b[1;33m[\u001b[0m\u001b[0mi\u001b[0m\u001b[1;33m]\u001b[0m\u001b[1;33m[\u001b[0m\u001b[0mj\u001b[0m\u001b[1;33m]\u001b[0m\u001b[1;33m\u001b[0m\u001b[0m\n",
        "\u001b[1;31mNameError\u001b[0m: name 'a' is not defined"
       ]
      }
     ],
     "prompt_number": 1
    },
    {
     "cell_type": "code",
     "collapsed": true,
     "input": [
      "import numpy as np",
      "",
      "def stringtoarray(s):",
      "   s = s[:len(s)-1]",
      "   s = s.split(' ')",
      "",
      "   i=0",
      "   for num in s:",
      "      s[i] = int(s[i])",
      "      i += 1",
      "   a = np.array(s)",
      "   return a",
      "",
      "   ",
      "def package(x,n):",
      "   f = open(x)",
      "   pkg = []",
      "   L = -1",
      "   for line in f:",
      "      if line[0] == '#':",
      "         a = []",
      "         pkg.append(a)",
      "         L += 1",
      "      else:",
      "          point = stringtoarray(line)",
      "          if point[-1] > n:",
      "              pkg[L].append(stringtoarray(line))",
      "   return pkg"
     ],
     "language": "python",
     "outputs": [],
     "prompt_number": 3
    },
    {
     "cell_type": "code",
     "collapsed": true,
     "input": [
      " #helpful???",
      "    for object in L[:]:",
      "        if not condition:",
      "            del L[index]"
     ],
     "language": "python",
     "outputs": []
    }
   ]
  }
 ]
}