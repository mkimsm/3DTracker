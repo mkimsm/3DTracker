{
 "metadata": {
  "name": "ADC"
 },
 "nbformat": 3,
 "worksheets": [
  {
   "cells": [
    {
     "cell_type": "code",
     "collapsed": false,
     "input": [
      "def noiseregulation(a,event,tol):",
      "    notnoise = [];",
      "    for i in range(len(a[event])):",
      "        if a[event][i][2] > tol:",
      "            notnoise.append(a[event][i])",
      "            print notnoise"
     ],
     "language": "python",
     "outputs": [],
     "prompt_number": 106
    },
    {
     "cell_type": "code",
     "collapsed": false,
     "input": [
      "a = [[ [1, 2, 3], [4, 5, 6], [7, 8, 9]],[ [1, 2, 3], [4, 5, 6], [7, 8, 9]]];",
      "noiseregulation(a,0,6)"
     ],
     "language": "python",
     "outputs": [
      {
       "output_type": "stream",
       "stream": "stdout",
       "text": [
        "[[7, 8, 9]]"
       ]
      }
     ],
     "prompt_number": 108
    },
    {
     "cell_type": "code",
     "collapsed": false,
     "input": [
      "def noiseregulator(alist,event,tolerance):",
      "    abovetolerance = []",
      "    for i in range(len(alist[event])):",
      "        if alist[event][i].wgt > tolerance:",
      "            abovetolerance.append(alist[event][i])",
      "    return abovetolerance;               "
     ],
     "language": "python",
     "outputs": [],
     "prompt_number": 109
    },
    {
     "cell_type": "code",
     "collapsed": false,
     "input": [
      "noiseregulator(list_of_lists,0,3)"
     ],
     "language": "python",
     "outputs": [
      {
       "ename": "AttributeError",
       "evalue": "'list' object has no attribute 'wgt'",
       "output_type": "pyerr",
       "traceback": [
        "\u001b[1;31m---------------------------------------------------------------------------\u001b[0m\n\u001b[1;31mAttributeError\u001b[0m                            Traceback (most recent call last)",
        "\u001b[1;32mC:\\Users\\Mike\\PHYS400\\3DTracker\\<ipython-input-110-b10d56aaa775>\u001b[0m in \u001b[0;36m<module>\u001b[1;34m()\u001b[0m\n\u001b[1;32m----> 1\u001b[1;33m \u001b[0mnoiseregulator\u001b[0m\u001b[1;33m(\u001b[0m\u001b[0mlist_of_lists\u001b[0m\u001b[1;33m,\u001b[0m\u001b[1;36m0\u001b[0m\u001b[1;33m,\u001b[0m\u001b[1;36m3\u001b[0m\u001b[1;33m)\u001b[0m\u001b[1;33m\u001b[0m\u001b[0m\n\u001b[0m",
        "\u001b[1;32mC:\\Users\\Mike\\PHYS400\\3DTracker\\<ipython-input-109-46a0e73cfe63>\u001b[0m in \u001b[0;36mnoiseregulator\u001b[1;34m(alist, event, tolerance)\u001b[0m\n\u001b[0;32m      2\u001b[0m     \u001b[0mabovetolerance\u001b[0m \u001b[1;33m=\u001b[0m \u001b[1;33m[\u001b[0m\u001b[1;33m]\u001b[0m\u001b[1;33m\u001b[0m\u001b[0m\n\u001b[0;32m      3\u001b[0m     \u001b[1;32mfor\u001b[0m \u001b[0mi\u001b[0m \u001b[1;32min\u001b[0m \u001b[0mrange\u001b[0m\u001b[1;33m(\u001b[0m\u001b[0mlen\u001b[0m\u001b[1;33m(\u001b[0m\u001b[0malist\u001b[0m\u001b[1;33m[\u001b[0m\u001b[0mevent\u001b[0m\u001b[1;33m]\u001b[0m\u001b[1;33m)\u001b[0m\u001b[1;33m)\u001b[0m\u001b[1;33m:\u001b[0m\u001b[1;33m\u001b[0m\u001b[0m\n\u001b[1;32m----> 4\u001b[1;33m         \u001b[1;32mif\u001b[0m \u001b[0malist\u001b[0m\u001b[1;33m[\u001b[0m\u001b[0mevent\u001b[0m\u001b[1;33m]\u001b[0m\u001b[1;33m[\u001b[0m\u001b[0mi\u001b[0m\u001b[1;33m]\u001b[0m\u001b[1;33m.\u001b[0m\u001b[0mwgt\u001b[0m \u001b[1;33m>\u001b[0m \u001b[0mtolerance\u001b[0m\u001b[1;33m:\u001b[0m\u001b[1;33m\u001b[0m\u001b[0m\n\u001b[0m\u001b[0;32m      5\u001b[0m             \u001b[0mabovetolerance\u001b[0m\u001b[1;33m.\u001b[0m\u001b[0mappend\u001b[0m\u001b[1;33m(\u001b[0m\u001b[0malist\u001b[0m\u001b[1;33m[\u001b[0m\u001b[0mevent\u001b[0m\u001b[1;33m]\u001b[0m\u001b[1;33m[\u001b[0m\u001b[0mi\u001b[0m\u001b[1;33m]\u001b[0m\u001b[1;33m)\u001b[0m\u001b[1;33m\u001b[0m\u001b[0m\n\u001b[0;32m      6\u001b[0m     \u001b[1;32mreturn\u001b[0m \u001b[0mabovetolerance\u001b[0m\u001b[1;33m;\u001b[0m\u001b[1;33m\u001b[0m\u001b[0m\n",
        "\u001b[1;31mAttributeError\u001b[0m: 'list' object has no attribute 'wgt'"
       ]
      }
     ],
     "prompt_number": 110
    },
    {
     "cell_type": "code",
     "collapsed": true,
     "input": [
      "list_of_lists = [[ [1, 2, 3], [4, 5, 6], [7, 8, 9]],[ [1, 2, 3], [4, 5, 6], [7, 8, 9]]];"
     ],
     "language": "python",
     "outputs": [],
     "prompt_number": 87
    },
    {
     "cell_type": "code",
     "collapsed": true,
     "input": [
      "for i in a:",
      "    for j in a:",
      "        density = a[i][j][3]",
      "        if density < 7:",
      "            del[i][j]"
     ],
     "language": "python",
     "outputs": []
    }
   ]
  }
 ]
}